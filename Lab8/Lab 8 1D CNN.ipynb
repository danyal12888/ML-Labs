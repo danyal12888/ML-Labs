{
 "cells": [
  {
   "cell_type": "code",
   "execution_count": 12,
   "metadata": {},
   "outputs": [],
   "source": [
    "import os\n",
    "os.chdir('C:\\\\Users\\\\HBLinks\\\\anaconda3\\\\envs\\\\MLLAB\\\\LABS\\\\Lab7\\\\Lab8')"
   ]
  },
  {
   "cell_type": "code",
   "execution_count": 15,
   "metadata": {},
   "outputs": [
    {
     "ename": "ImportError",
     "evalue": "cannot import name 'BaseLogger' from 'tensorflow.keras.callbacks' (C:\\Users\\HBLinks\\anaconda3\\envs\\MLLAB\\lib\\site-packages\\keras\\_tf_keras\\keras\\callbacks\\__init__.py)",
     "output_type": "error",
     "traceback": [
      "\u001b[1;31m---------------------------------------------------------------------------\u001b[0m",
      "\u001b[1;31mImportError\u001b[0m                               Traceback (most recent call last)",
      "Cell \u001b[1;32mIn[15], line 13\u001b[0m\n\u001b[0;32m     10\u001b[0m \u001b[38;5;28;01mfrom\u001b[39;00m\u001b[38;5;250m \u001b[39m\u001b[38;5;21;01mtensorflow\u001b[39;00m\u001b[38;5;21;01m.\u001b[39;00m\u001b[38;5;21;01mkeras\u001b[39;00m\u001b[38;5;21;01m.\u001b[39;00m\u001b[38;5;21;01mmodels\u001b[39;00m\u001b[38;5;250m \u001b[39m\u001b[38;5;28;01mimport\u001b[39;00m load_model\n\u001b[0;32m     11\u001b[0m \u001b[38;5;28;01mfrom\u001b[39;00m\u001b[38;5;250m \u001b[39m\u001b[38;5;21;01mtensorflow\u001b[39;00m\u001b[38;5;21;01m.\u001b[39;00m\u001b[38;5;21;01mkeras\u001b[39;00m\u001b[38;5;21;01m.\u001b[39;00m\u001b[38;5;21;01mlosses\u001b[39;00m\u001b[38;5;250m \u001b[39m\u001b[38;5;28;01mimport\u001b[39;00m MeanAbsoluteError\n\u001b[1;32m---> 13\u001b[0m \u001b[38;5;28;01mfrom\u001b[39;00m\u001b[38;5;250m \u001b[39m\u001b[38;5;21;01mtimeseires\u001b[39;00m\u001b[38;5;21;01m.\u001b[39;00m\u001b[38;5;21;01mcallbacks\u001b[39;00m\u001b[38;5;21;01m.\u001b[39;00m\u001b[38;5;21;01mTrainingMonitor\u001b[39;00m\u001b[38;5;250m \u001b[39m\u001b[38;5;28;01mimport\u001b[39;00m TrainingMonitor\n\u001b[0;32m     15\u001b[0m \u001b[38;5;28;01mfrom\u001b[39;00m\u001b[38;5;250m \u001b[39m\u001b[38;5;21;01mtensorflow\u001b[39;00m\u001b[38;5;21;01m.\u001b[39;00m\u001b[38;5;21;01mkeras\u001b[39;00m\u001b[38;5;21;01m.\u001b[39;00m\u001b[38;5;21;01moptimizers\u001b[39;00m\u001b[38;5;250m \u001b[39m\u001b[38;5;28;01mimport\u001b[39;00m Adam\n\u001b[0;32m     16\u001b[0m \u001b[38;5;28;01mfrom\u001b[39;00m\u001b[38;5;250m \u001b[39m\u001b[38;5;21;01mtensorflow\u001b[39;00m\u001b[38;5;21;01m.\u001b[39;00m\u001b[38;5;21;01mkeras\u001b[39;00m\u001b[38;5;21;01m.\u001b[39;00m\u001b[38;5;21;01moptimizers\u001b[39;00m\u001b[38;5;250m \u001b[39m\u001b[38;5;28;01mimport\u001b[39;00m SGD\n",
      "File \u001b[1;32m~\\anaconda3\\envs\\MLLAB\\LABS\\Lab7\\Lab8\\timeseires\\callbacks\\TrainingMonitor.py:9\u001b[0m\n\u001b[0;32m      2\u001b[0m \u001b[38;5;124;03m\"\"\"\u001b[39;00m\n\u001b[0;32m      3\u001b[0m \u001b[38;5;124;03mCreated on Thu Mar 18 22:47:05 2021\u001b[39;00m\n\u001b[0;32m      4\u001b[0m \n\u001b[0;32m      5\u001b[0m \u001b[38;5;124;03m@author: arif\u001b[39;00m\n\u001b[0;32m      6\u001b[0m \u001b[38;5;124;03m\"\"\"\u001b[39;00m\n\u001b[0;32m      8\u001b[0m \u001b[38;5;66;03m# import the necessary packages\u001b[39;00m\n\u001b[1;32m----> 9\u001b[0m \u001b[38;5;28;01mfrom\u001b[39;00m\u001b[38;5;250m \u001b[39m\u001b[38;5;21;01mtensorflow\u001b[39;00m\u001b[38;5;21;01m.\u001b[39;00m\u001b[38;5;21;01mkeras\u001b[39;00m\u001b[38;5;21;01m.\u001b[39;00m\u001b[38;5;21;01mcallbacks\u001b[39;00m\u001b[38;5;250m \u001b[39m\u001b[38;5;28;01mimport\u001b[39;00m BaseLogger\n\u001b[0;32m     10\u001b[0m \u001b[38;5;28;01mimport\u001b[39;00m\u001b[38;5;250m \u001b[39m\u001b[38;5;21;01mmatplotlib\u001b[39;00m\u001b[38;5;21;01m.\u001b[39;00m\u001b[38;5;21;01mpyplot\u001b[39;00m\u001b[38;5;250m \u001b[39m\u001b[38;5;28;01mas\u001b[39;00m\u001b[38;5;250m \u001b[39m\u001b[38;5;21;01mplt\u001b[39;00m\n\u001b[0;32m     11\u001b[0m \u001b[38;5;28;01mimport\u001b[39;00m\u001b[38;5;250m \u001b[39m\u001b[38;5;21;01mnumpy\u001b[39;00m\u001b[38;5;250m \u001b[39m\u001b[38;5;28;01mas\u001b[39;00m\u001b[38;5;250m \u001b[39m\u001b[38;5;21;01mnp\u001b[39;00m\n",
      "\u001b[1;31mImportError\u001b[0m: cannot import name 'BaseLogger' from 'tensorflow.keras.callbacks' (C:\\Users\\HBLinks\\anaconda3\\envs\\MLLAB\\lib\\site-packages\\keras\\_tf_keras\\keras\\callbacks\\__init__.py)"
     ]
    }
   ],
   "source": [
    "from sklearn.metrics import mean_squared_error, mean_absolute_error, explained_variance_score, r2_score\n",
    "from timeseires.utils.to_split import to_split\n",
    "from timeseires.utils.multivariate_multi_step import multivariate_multi_step\n",
    "from timeseires.utils.multivariate_single_step import multivariate_single_step\n",
    "from timeseires.utils.univariate_multi_step import univariate_multi_step\n",
    "from timeseires.utils.univariate_single_step import univariate_single_step\n",
    "from timeseires.utils.CosineAnnealingLRS import CosineAnnealingLRS\n",
    "from timeseires.callbacks.EpochCheckpoint import EpochCheckpoint\n",
    "from tensorflow.keras.callbacks import ModelCheckpoint\n",
    "from tensorflow.keras.models import load_model\n",
    "from tensorflow.keras.losses import MeanAbsoluteError\n",
    "\n",
    "from timeseires.callbacks.TrainingMonitor import TrainingMonitor\n",
    "\n",
    "from tensorflow.keras.optimizers import Adam\n",
    "from tensorflow.keras.optimizers import SGD\n",
    "from tensorflow.keras.models import load_model\n",
    "from tensorflow.keras.layers import LSTM, Bidirectional, Add\n",
    "from tensorflow.keras.layers import BatchNormalization\n",
    "from tensorflow.keras.layers import Conv1D,TimeDistributed\n",
    "from tensorflow.keras.layers import Dense, Dropout, Activation, Flatten,MaxPooling1D,Concatenate,AveragePooling1D, GlobalMaxPooling1D, Input\n",
    "from tensorflow.keras.models import Sequential,Model\n",
    "import pandas as pd\n",
    "import time, pickle\n",
    "import numpy as np\n",
    "import tensorflow.keras.backend as K\n",
    "import tensorflow\n",
    "from tensorflow.keras.layers import Input, Reshape, Lambda\n",
    "from tensorflow.keras.layers import Layer, Flatten, LeakyReLU, concatenate, Dense\n",
    "from tensorflow.keras.regularizers import l2\n",
    "import glob\n",
    "import h5py\n",
    "import matplotlib.pyplot as plt\n",
    "\n"
   ]
  },
  {
   "cell_type": "code",
   "execution_count": 7,
   "metadata": {},
   "outputs": [
    {
     "ename": "ImportError",
     "evalue": "cannot import name 'BaseLogger' from 'tensorflow.keras.callbacks' (C:\\Users\\HBLinks\\anaconda3\\envs\\MLLAB\\lib\\site-packages\\keras\\_tf_keras\\keras\\callbacks\\__init__.py)",
     "output_type": "error",
     "traceback": [
      "\u001b[1;31m---------------------------------------------------------------------------\u001b[0m",
      "\u001b[1;31mImportError\u001b[0m                               Traceback (most recent call last)",
      "Cell \u001b[1;32mIn[7], line 10\u001b[0m\n\u001b[0;32m      8\u001b[0m \u001b[38;5;28;01mfrom\u001b[39;00m\u001b[38;5;250m \u001b[39m\u001b[38;5;21;01mtimeseires\u001b[39;00m\u001b[38;5;21;01m.\u001b[39;00m\u001b[38;5;21;01mcallbacks\u001b[39;00m\u001b[38;5;21;01m.\u001b[39;00m\u001b[38;5;21;01mEpochCheckpoint\u001b[39;00m\u001b[38;5;250m \u001b[39m\u001b[38;5;28;01mimport\u001b[39;00m EpochCheckpoint\n\u001b[0;32m      9\u001b[0m \u001b[38;5;28;01mfrom\u001b[39;00m\u001b[38;5;250m \u001b[39m\u001b[38;5;21;01mtensorflow\u001b[39;00m\u001b[38;5;21;01m.\u001b[39;00m\u001b[38;5;21;01mkeras\u001b[39;00m\u001b[38;5;21;01m.\u001b[39;00m\u001b[38;5;21;01mcallbacks\u001b[39;00m\u001b[38;5;250m \u001b[39m\u001b[38;5;28;01mimport\u001b[39;00m ModelCheckpoint\n\u001b[1;32m---> 10\u001b[0m \u001b[38;5;28;01mfrom\u001b[39;00m\u001b[38;5;250m \u001b[39m\u001b[38;5;21;01mtimeseires\u001b[39;00m\u001b[38;5;21;01m.\u001b[39;00m\u001b[38;5;21;01mcallbacks\u001b[39;00m\u001b[38;5;21;01m.\u001b[39;00m\u001b[38;5;21;01mTrainingMonitor\u001b[39;00m\u001b[38;5;250m \u001b[39m\u001b[38;5;28;01mimport\u001b[39;00m TrainingMonitor\n\u001b[0;32m     11\u001b[0m \u001b[38;5;28;01mfrom\u001b[39;00m\u001b[38;5;250m \u001b[39m\u001b[38;5;21;01mtensorflow\u001b[39;00m\u001b[38;5;21;01m.\u001b[39;00m\u001b[38;5;21;01mkeras\u001b[39;00m\u001b[38;5;21;01m.\u001b[39;00m\u001b[38;5;21;01moptimizers\u001b[39;00m\u001b[38;5;250m \u001b[39m\u001b[38;5;28;01mimport\u001b[39;00m Adam\n\u001b[0;32m     12\u001b[0m \u001b[38;5;28;01mfrom\u001b[39;00m\u001b[38;5;250m \u001b[39m\u001b[38;5;21;01mtensorflow\u001b[39;00m\u001b[38;5;21;01m.\u001b[39;00m\u001b[38;5;21;01mkeras\u001b[39;00m\u001b[38;5;21;01m.\u001b[39;00m\u001b[38;5;21;01moptimizers\u001b[39;00m\u001b[38;5;250m \u001b[39m\u001b[38;5;28;01mimport\u001b[39;00m SGD\n",
      "File \u001b[1;32m~\\anaconda3\\envs\\MLLAB\\LABS\\Lab7\\Lab8\\timeseires\\callbacks\\TrainingMonitor.py:9\u001b[0m\n\u001b[0;32m      2\u001b[0m \u001b[38;5;124;03m\"\"\"\u001b[39;00m\n\u001b[0;32m      3\u001b[0m \u001b[38;5;124;03mCreated on Thu Mar 18 22:47:05 2021\u001b[39;00m\n\u001b[0;32m      4\u001b[0m \n\u001b[0;32m      5\u001b[0m \u001b[38;5;124;03m@author: arif\u001b[39;00m\n\u001b[0;32m      6\u001b[0m \u001b[38;5;124;03m\"\"\"\u001b[39;00m\n\u001b[0;32m      8\u001b[0m \u001b[38;5;66;03m# import the necessary packages\u001b[39;00m\n\u001b[1;32m----> 9\u001b[0m \u001b[38;5;28;01mfrom\u001b[39;00m\u001b[38;5;250m \u001b[39m\u001b[38;5;21;01mtensorflow\u001b[39;00m\u001b[38;5;21;01m.\u001b[39;00m\u001b[38;5;21;01mkeras\u001b[39;00m\u001b[38;5;21;01m.\u001b[39;00m\u001b[38;5;21;01mcallbacks\u001b[39;00m\u001b[38;5;250m \u001b[39m\u001b[38;5;28;01mimport\u001b[39;00m BaseLogger\n\u001b[0;32m     10\u001b[0m \u001b[38;5;28;01mimport\u001b[39;00m\u001b[38;5;250m \u001b[39m\u001b[38;5;21;01mmatplotlib\u001b[39;00m\u001b[38;5;21;01m.\u001b[39;00m\u001b[38;5;21;01mpyplot\u001b[39;00m\u001b[38;5;250m \u001b[39m\u001b[38;5;28;01mas\u001b[39;00m\u001b[38;5;250m \u001b[39m\u001b[38;5;21;01mplt\u001b[39;00m\n\u001b[0;32m     11\u001b[0m \u001b[38;5;28;01mimport\u001b[39;00m\u001b[38;5;250m \u001b[39m\u001b[38;5;21;01mnumpy\u001b[39;00m\u001b[38;5;250m \u001b[39m\u001b[38;5;28;01mas\u001b[39;00m\u001b[38;5;250m \u001b[39m\u001b[38;5;21;01mnp\u001b[39;00m\n",
      "\u001b[1;31mImportError\u001b[0m: cannot import name 'BaseLogger' from 'tensorflow.keras.callbacks' (C:\\Users\\HBLinks\\anaconda3\\envs\\MLLAB\\lib\\site-packages\\keras\\_tf_keras\\keras\\callbacks\\__init__.py)"
     ]
    }
   ],
   "source": [
    "from sklearn.metrics import mean_squared_error, mean_absolute_error, explained_variance_score, r2_score\n",
    "from timeseires.utils.to_split import to_split\n",
    "from timeseires.utils.multivariate_multi_step import multivariate_multi_step\n",
    "from timeseires.utils.multivariate_single_step import multivariate_single_step\n",
    "from timeseires.utils.univariate_multi_step import univariate_multi_step\n",
    "from timeseires.utils.univariate_single_step import univariate_single_step\n",
    "from timeseires.utils.CosineAnnealingLRS import CosineAnnealingLRS\n",
    "from timeseires.callbacks.EpochCheckpoint import EpochCheckpoint\n",
    "from tensorflow.keras.callbacks import ModelCheckpoint\n",
    "from timeseires.callbacks.TrainingMonitor import TrainingMonitor\n",
    "from tensorflow.keras.optimizers import Adam\n",
    "from tensorflow.keras.optimizers import SGD\n",
    "from tensorflow.keras.models import load_model\n",
    "from tensorflow.keras.layers import LSTM, Bidirectional, Add\n",
    "from tensorflow.keras.layers import BatchNormalization\n",
    "from tensorflow.keras.layers import Conv1D,TimeDistributed\n",
    "from tensorflow.keras.layers import Dense, Dropout, Activation, Flatten,MaxPooling1D,Concatenate,AveragePooling1D, GlobalMaxPooling1D, Input\n",
    "from tensorflow.keras.models import Sequential,Model\n",
    "import pandas as pd\n",
    "import time, pickle\n",
    "import numpy as np\n",
    "import tensorflow.keras.backend as K\n",
    "import tensorflow\n",
    "from tensorflow.keras.layers import Input, Reshape, Lambda\n",
    "from tensorflow.keras.layers import Layer, Flatten, LeakyReLU, concatenate, Dense\n",
    "from tensorflow.keras.regularizers import l2\n",
    "import glob\n",
    "import h5py\n",
    "import matplotlib.pyplot as plt\n",
    "from keras.callbacks import Callback"
   ]
  },
  {
   "cell_type": "code",
   "execution_count": 3,
   "metadata": {},
   "outputs": [],
   "source": [
    "#lookback = 24\n",
    "model = None\n",
    "start_epoch = 0\n",
    "time_steps=24\n",
    "num_features=21"
   ]
  },
  {
   "cell_type": "code",
   "execution_count": 4,
   "metadata": {},
   "outputs": [],
   "source": [
    "def CNN():\n",
    "    input_data = Input(shape=(time_steps, num_features))\n",
    "    x1 = Conv1D(16, 2, activation=\"relu\")(input_data)\n",
    "    x2 = Conv1D(16, 2, activation=\"relu\")(x1)\n",
    "    flatten = Flatten()(x2)\n",
    "    output_data = Dense(1)(flatten)\n",
    "    model = Model(input_data, output_data)\n",
    "    return model"
   ]
  },
  {
   "cell_type": "code",
   "execution_count": 5,
   "metadata": {},
   "outputs": [
    {
     "data": {
      "text/html": [
       "<pre style=\"white-space:pre;overflow-x:auto;line-height:normal;font-family:Menlo,'DejaVu Sans Mono',consolas,'Courier New',monospace\"><span style=\"font-weight: bold\">Model: \"functional\"</span>\n",
       "</pre>\n"
      ],
      "text/plain": [
       "\u001b[1mModel: \"functional\"\u001b[0m\n"
      ]
     },
     "metadata": {},
     "output_type": "display_data"
    },
    {
     "data": {
      "text/html": [
       "<pre style=\"white-space:pre;overflow-x:auto;line-height:normal;font-family:Menlo,'DejaVu Sans Mono',consolas,'Courier New',monospace\">┏━━━━━━━━━━━━━━━━━━━━━━━━━━━━━━━━━━━━━━┳━━━━━━━━━━━━━━━━━━━━━━━━━━━━━┳━━━━━━━━━━━━━━━━━┓\n",
       "┃<span style=\"font-weight: bold\"> Layer (type)                         </span>┃<span style=\"font-weight: bold\"> Output Shape                </span>┃<span style=\"font-weight: bold\">         Param # </span>┃\n",
       "┡━━━━━━━━━━━━━━━━━━━━━━━━━━━━━━━━━━━━━━╇━━━━━━━━━━━━━━━━━━━━━━━━━━━━━╇━━━━━━━━━━━━━━━━━┩\n",
       "│ input_layer (<span style=\"color: #0087ff; text-decoration-color: #0087ff\">InputLayer</span>)             │ (<span style=\"color: #00d7ff; text-decoration-color: #00d7ff\">None</span>, <span style=\"color: #00af00; text-decoration-color: #00af00\">24</span>, <span style=\"color: #00af00; text-decoration-color: #00af00\">21</span>)              │               <span style=\"color: #00af00; text-decoration-color: #00af00\">0</span> │\n",
       "├──────────────────────────────────────┼─────────────────────────────┼─────────────────┤\n",
       "│ conv1d (<span style=\"color: #0087ff; text-decoration-color: #0087ff\">Conv1D</span>)                      │ (<span style=\"color: #00d7ff; text-decoration-color: #00d7ff\">None</span>, <span style=\"color: #00af00; text-decoration-color: #00af00\">23</span>, <span style=\"color: #00af00; text-decoration-color: #00af00\">16</span>)              │             <span style=\"color: #00af00; text-decoration-color: #00af00\">688</span> │\n",
       "├──────────────────────────────────────┼─────────────────────────────┼─────────────────┤\n",
       "│ conv1d_1 (<span style=\"color: #0087ff; text-decoration-color: #0087ff\">Conv1D</span>)                    │ (<span style=\"color: #00d7ff; text-decoration-color: #00d7ff\">None</span>, <span style=\"color: #00af00; text-decoration-color: #00af00\">22</span>, <span style=\"color: #00af00; text-decoration-color: #00af00\">16</span>)              │             <span style=\"color: #00af00; text-decoration-color: #00af00\">528</span> │\n",
       "├──────────────────────────────────────┼─────────────────────────────┼─────────────────┤\n",
       "│ flatten (<span style=\"color: #0087ff; text-decoration-color: #0087ff\">Flatten</span>)                    │ (<span style=\"color: #00d7ff; text-decoration-color: #00d7ff\">None</span>, <span style=\"color: #00af00; text-decoration-color: #00af00\">352</span>)                 │               <span style=\"color: #00af00; text-decoration-color: #00af00\">0</span> │\n",
       "├──────────────────────────────────────┼─────────────────────────────┼─────────────────┤\n",
       "│ dense (<span style=\"color: #0087ff; text-decoration-color: #0087ff\">Dense</span>)                        │ (<span style=\"color: #00d7ff; text-decoration-color: #00d7ff\">None</span>, <span style=\"color: #00af00; text-decoration-color: #00af00\">1</span>)                   │             <span style=\"color: #00af00; text-decoration-color: #00af00\">353</span> │\n",
       "└──────────────────────────────────────┴─────────────────────────────┴─────────────────┘\n",
       "</pre>\n"
      ],
      "text/plain": [
       "┏━━━━━━━━━━━━━━━━━━━━━━━━━━━━━━━━━━━━━━┳━━━━━━━━━━━━━━━━━━━━━━━━━━━━━┳━━━━━━━━━━━━━━━━━┓\n",
       "┃\u001b[1m \u001b[0m\u001b[1mLayer (type)                        \u001b[0m\u001b[1m \u001b[0m┃\u001b[1m \u001b[0m\u001b[1mOutput Shape               \u001b[0m\u001b[1m \u001b[0m┃\u001b[1m \u001b[0m\u001b[1m        Param #\u001b[0m\u001b[1m \u001b[0m┃\n",
       "┡━━━━━━━━━━━━━━━━━━━━━━━━━━━━━━━━━━━━━━╇━━━━━━━━━━━━━━━━━━━━━━━━━━━━━╇━━━━━━━━━━━━━━━━━┩\n",
       "│ input_layer (\u001b[38;5;33mInputLayer\u001b[0m)             │ (\u001b[38;5;45mNone\u001b[0m, \u001b[38;5;34m24\u001b[0m, \u001b[38;5;34m21\u001b[0m)              │               \u001b[38;5;34m0\u001b[0m │\n",
       "├──────────────────────────────────────┼─────────────────────────────┼─────────────────┤\n",
       "│ conv1d (\u001b[38;5;33mConv1D\u001b[0m)                      │ (\u001b[38;5;45mNone\u001b[0m, \u001b[38;5;34m23\u001b[0m, \u001b[38;5;34m16\u001b[0m)              │             \u001b[38;5;34m688\u001b[0m │\n",
       "├──────────────────────────────────────┼─────────────────────────────┼─────────────────┤\n",
       "│ conv1d_1 (\u001b[38;5;33mConv1D\u001b[0m)                    │ (\u001b[38;5;45mNone\u001b[0m, \u001b[38;5;34m22\u001b[0m, \u001b[38;5;34m16\u001b[0m)              │             \u001b[38;5;34m528\u001b[0m │\n",
       "├──────────────────────────────────────┼─────────────────────────────┼─────────────────┤\n",
       "│ flatten (\u001b[38;5;33mFlatten\u001b[0m)                    │ (\u001b[38;5;45mNone\u001b[0m, \u001b[38;5;34m352\u001b[0m)                 │               \u001b[38;5;34m0\u001b[0m │\n",
       "├──────────────────────────────────────┼─────────────────────────────┼─────────────────┤\n",
       "│ dense (\u001b[38;5;33mDense\u001b[0m)                        │ (\u001b[38;5;45mNone\u001b[0m, \u001b[38;5;34m1\u001b[0m)                   │             \u001b[38;5;34m353\u001b[0m │\n",
       "└──────────────────────────────────────┴─────────────────────────────┴─────────────────┘\n"
      ]
     },
     "metadata": {},
     "output_type": "display_data"
    },
    {
     "data": {
      "text/html": [
       "<pre style=\"white-space:pre;overflow-x:auto;line-height:normal;font-family:Menlo,'DejaVu Sans Mono',consolas,'Courier New',monospace\"><span style=\"font-weight: bold\"> Total params: </span><span style=\"color: #00af00; text-decoration-color: #00af00\">1,569</span> (6.13 KB)\n",
       "</pre>\n"
      ],
      "text/plain": [
       "\u001b[1m Total params: \u001b[0m\u001b[38;5;34m1,569\u001b[0m (6.13 KB)\n"
      ]
     },
     "metadata": {},
     "output_type": "display_data"
    },
    {
     "data": {
      "text/html": [
       "<pre style=\"white-space:pre;overflow-x:auto;line-height:normal;font-family:Menlo,'DejaVu Sans Mono',consolas,'Courier New',monospace\"><span style=\"font-weight: bold\"> Trainable params: </span><span style=\"color: #00af00; text-decoration-color: #00af00\">1,569</span> (6.13 KB)\n",
       "</pre>\n"
      ],
      "text/plain": [
       "\u001b[1m Trainable params: \u001b[0m\u001b[38;5;34m1,569\u001b[0m (6.13 KB)\n"
      ]
     },
     "metadata": {},
     "output_type": "display_data"
    },
    {
     "data": {
      "text/html": [
       "<pre style=\"white-space:pre;overflow-x:auto;line-height:normal;font-family:Menlo,'DejaVu Sans Mono',consolas,'Courier New',monospace\"><span style=\"font-weight: bold\"> Non-trainable params: </span><span style=\"color: #00af00; text-decoration-color: #00af00\">0</span> (0.00 B)\n",
       "</pre>\n"
      ],
      "text/plain": [
       "\u001b[1m Non-trainable params: \u001b[0m\u001b[38;5;34m0\u001b[0m (0.00 B)\n"
      ]
     },
     "metadata": {},
     "output_type": "display_data"
    }
   ],
   "source": [
    "model1 = CNN()\n",
    "model1.summary()"
   ]
  },
  {
   "cell_type": "code",
   "execution_count": 6,
   "metadata": {},
   "outputs": [
    {
     "name": "stdout",
     "output_type": "stream",
     "text": [
      "You must install pydot (`pip install pydot`) for `plot_model` to work.\n"
     ]
    }
   ],
   "source": [
    "tensorflow.keras.utils.plot_model(model1 )"
   ]
  },
  {
   "cell_type": "code",
   "execution_count": 7,
   "metadata": {},
   "outputs": [],
   "source": [
    "checkpoints = r'C:\\Users\\HBLinks\\anaconda3\\envs\\MLLAB\\LABS\\Lab7\\Lab8\\\\E1-cp-{epoch:04d}-loss{val_loss:.2f}.h5'\n",
    "OUTPUT_PATH = r'C:\\Users\\HBLinks\\anaconda3\\envs\\MLLAB\\LABS\\Lab7\\Lab8'\n",
    "#FIG_PATH = os.path.sep.join([OUTPUT_PATH,\"\\history.png\"])\n",
    "#JSON_PATH = os.path.sep.join([OUTPUT_PATH,\"\\history.json\"])"
   ]
  },
  {
   "cell_type": "code",
   "execution_count": 8,
   "metadata": {},
   "outputs": [
    {
     "ename": "NameError",
     "evalue": "name 'TrainingMonitor' is not defined",
     "output_type": "error",
     "traceback": [
      "\u001b[1;31m---------------------------------------------------------------------------\u001b[0m",
      "\u001b[1;31mNameError\u001b[0m                                 Traceback (most recent call last)",
      "Cell \u001b[1;32mIn[8], line 7\u001b[0m\n\u001b[0;32m      1\u001b[0m \u001b[38;5;66;03m# construct the callback to save only the *best* model to disk\u001b[39;00m\n\u001b[0;32m      2\u001b[0m \u001b[38;5;66;03m# based on the validation loss\u001b[39;00m\n\u001b[0;32m      3\u001b[0m EpochCheckpoint1 \u001b[38;5;241m=\u001b[39m ModelCheckpoint(checkpoints,\n\u001b[0;32m      4\u001b[0m                              monitor\u001b[38;5;241m=\u001b[39m\u001b[38;5;124m\"\u001b[39m\u001b[38;5;124mval_loss\u001b[39m\u001b[38;5;124m\"\u001b[39m,\n\u001b[0;32m      5\u001b[0m                              save_best_only\u001b[38;5;241m=\u001b[39m\u001b[38;5;28;01mTrue\u001b[39;00m, \n\u001b[0;32m      6\u001b[0m                              verbose\u001b[38;5;241m=\u001b[39m\u001b[38;5;241m1\u001b[39m)\n\u001b[1;32m----> 7\u001b[0m TrainingMonitor1\u001b[38;5;241m=\u001b[39m\u001b[43mTrainingMonitor\u001b[49m(FIG_PATH, jsonPath\u001b[38;5;241m=\u001b[39mJSON_PATH, startAt\u001b[38;5;241m=\u001b[39mstart_epoch)\n\u001b[0;32m      9\u001b[0m \u001b[38;5;66;03m# construct the set of callbacks\u001b[39;00m\n\u001b[0;32m     10\u001b[0m callbacks \u001b[38;5;241m=\u001b[39m [EpochCheckpoint1,TrainingMonitor1]\n",
      "\u001b[1;31mNameError\u001b[0m: name 'TrainingMonitor' is not defined"
     ]
    }
   ],
   "source": [
    "# construct the callback to save only the *best* model to disk\n",
    "# based on the validation loss\n",
    "EpochCheckpoint1 = ModelCheckpoint(checkpoints,\n",
    "                             monitor=\"val_loss\",\n",
    "                             save_best_only=True, \n",
    "                             verbose=1)\n",
    "TrainingMonitor1=TrainingMonitor(FIG_PATH, jsonPath=JSON_PATH, startAt=start_epoch)\n",
    "\n",
    "# construct the set of callbacks\n",
    "callbacks = [EpochCheckpoint1,TrainingMonitor1]"
   ]
  },
  {
   "cell_type": "code",
   "execution_count": 10,
   "metadata": {},
   "outputs": [
    {
     "name": "stdout",
     "output_type": "stream",
     "text": [
      "[INFO] compiling model...\n"
     ]
    }
   ],
   "source": [
    "# if there is no specific model checkpoint supplied, then initialize\n",
    "# the network and compile the model\n",
    "if model is None:\n",
    "    print(\"[INFO] compiling model...\")\n",
    "    model =CNN()\n",
    "    opt = Adam(1e-3)\n",
    "    model.compile(loss= 'mae', optimizer=opt, metrics=[\"mae\", \"mape\"])\n",
    "# otherwise, load the checkpoint from disk\n",
    "else:\n",
    "    print(\"[INFO] loading {}...\".format(model))\n",
    "    model = load_model(model)\n",
    "\n",
    "    # update the learning rate\n",
    "    print(\"[INFO] old learning rate: {}\".format(K.get_value(model.optimizer.lr)))\n",
    "    K.set_value(model.optimizer.lr, 1e-4)\n",
    "    print(\"[INFO] new learning rate: {}\".format(K.get_value(model.optimizer.lr)))"
   ]
  },
  {
   "cell_type": "code",
   "execution_count": 11,
   "metadata": {},
   "outputs": [
    {
     "name": "stderr",
     "output_type": "stream",
     "text": [
      "C:\\Users\\Administrator\\anaconda3\\envs\\Time1\\lib\\site-packages\\sklearn\\base.py:347: InconsistentVersionWarning: Trying to unpickle estimator MinMaxScaler from version 1.0.2 when using version 1.3.0. This might lead to breaking code or invalid results. Use at your own risk. For more info please refer to:\n",
      "https://scikit-learn.org/stable/model_persistence.html#security-maintainability-limitations\n",
      "  warnings.warn(\n"
     ]
    },
    {
     "data": {
      "text/plain": [
       "((84907, 21), (24259, 21), (12130, 21))"
      ]
     },
     "execution_count": 11,
     "metadata": {},
     "output_type": "execute_result"
    }
   ],
   "source": [
    "import os\n",
    "path_dataset ='C:\\\\Users\\\\Administrator\\\\Downloads\\\\ML Lab\\\\AEP_hourly\\\\processed'\n",
    "path_tr = os.path.join(path_dataset, 'AEP_train.csv')\n",
    "df_tr = pd.read_csv(path_tr)\n",
    "train_set = df_tr.iloc[:].values\n",
    "path_v = os.path.join(path_dataset, 'AEP_validation.csv')\n",
    "df_v = pd.read_csv(path_v)\n",
    "validation_set = df_v.iloc[:].values \n",
    "path_te = os.path.join(path_dataset, 'AEP_test.csv')\n",
    "df_te = pd.read_csv(path_te)\n",
    "test_set = df_te.iloc[:].values \n",
    "\n",
    "path_scaler = os.path.join(path_dataset, 'AEP_Scaler.pkl')\n",
    "scaler         = pickle.load(open(path_scaler, 'rb'))\n",
    "\n",
    "train_set.shape, validation_set.shape, test_set.shape"
   ]
  },
  {
   "cell_type": "code",
   "execution_count": 12,
   "metadata": {},
   "outputs": [],
   "source": [
    "time_steps=24\n",
    "num_features=21"
   ]
  },
  {
   "cell_type": "code",
   "execution_count": 13,
   "metadata": {},
   "outputs": [
    {
     "name": "stdout",
     "output_type": "stream",
     "text": [
      "Time Consumed 0.5946848392486572 sec\n"
     ]
    }
   ],
   "source": [
    "start = time.time()\n",
    "train_X , train_y = univariate_multi_step(train_set, time_steps, target_col=0,target_len=1)\n",
    "validation_X, validation_y = univariate_multi_step(validation_set, time_steps, target_col=0,target_len=1)\n",
    "test_X, test_y = univariate_multi_step(test_set, time_steps, target_col=0,target_len=1)\n",
    "print('Time Consumed', time.time()-start, \"sec\")"
   ]
  },
  {
   "cell_type": "code",
   "execution_count": 14,
   "metadata": {},
   "outputs": [
    {
     "name": "stdout",
     "output_type": "stream",
     "text": [
      "Epoch 1/60\n",
      "2646/2653 [============================>.] - ETA: 0s - loss: 0.0387 - mae: 0.0387 - mape: 2501.2070\n",
      "Epoch 1: val_loss improved from inf to 0.03196, saving model to C:\\Users\\Administrator\\Downloads\\ML Lab\\checkpoint\\ML Lab\\lab8\\E1-cp-0001-loss0.03.h5\n",
      "2653/2653 [==============================] - 11s 4ms/step - loss: 0.0387 - mae: 0.0387 - mape: 2495.0393 - val_loss: 0.0320 - val_mae: 0.0320 - val_mape: 14.6580\n",
      "Epoch 2/60\n",
      "2646/2653 [============================>.] - ETA: 0s - loss: 0.0190 - mae: 0.0190 - mape: 492.0476\n",
      "Epoch 2: val_loss improved from 0.03196 to 0.01906, saving model to C:\\Users\\Administrator\\Downloads\\ML Lab\\checkpoint\\ML Lab\\lab8\\E1-cp-0002-loss0.02.h5\n",
      "2653/2653 [==============================] - 14s 5ms/step - loss: 0.0190 - mae: 0.0190 - mape: 490.8450 - val_loss: 0.0191 - val_mae: 0.0191 - val_mape: 8.8734\n",
      "Epoch 3/60\n",
      "2647/2653 [============================>.] - ETA: 0s - loss: 0.0151 - mae: 0.0151 - mape: 498.7906\n",
      "Epoch 3: val_loss improved from 0.01906 to 0.01193, saving model to C:\\Users\\Administrator\\Downloads\\ML Lab\\checkpoint\\ML Lab\\lab8\\E1-cp-0003-loss0.01.h5\n",
      "2653/2653 [==============================] - 12s 5ms/step - loss: 0.0151 - mae: 0.0151 - mape: 497.7540 - val_loss: 0.0119 - val_mae: 0.0119 - val_mape: 5.4164\n",
      "Epoch 4/60\n",
      "2649/2653 [============================>.] - ETA: 0s - loss: 0.0128 - mae: 0.0128 - mape: 365.6566\n",
      "Epoch 4: val_loss did not improve from 0.01193\n",
      "2653/2653 [==============================] - 11s 4ms/step - loss: 0.0128 - mae: 0.0128 - mape: 365.1707 - val_loss: 0.0133 - val_mae: 0.0133 - val_mape: 7.2663\n",
      "Epoch 5/60\n",
      "2644/2653 [============================>.] - ETA: 0s - loss: 0.0118 - mae: 0.0118 - mape: 321.1099\n",
      "Epoch 5: val_loss did not improve from 0.01193\n",
      "2653/2653 [==============================] - 11s 4ms/step - loss: 0.0118 - mae: 0.0118 - mape: 320.0854 - val_loss: 0.0127 - val_mae: 0.0127 - val_mape: 6.8664\n",
      "Epoch 6/60\n",
      "2638/2653 [============================>.] - ETA: 0s - loss: 0.0110 - mae: 0.0110 - mape: 244.0329\n",
      "Epoch 6: val_loss did not improve from 0.01193\n",
      "2653/2653 [==============================] - 9s 4ms/step - loss: 0.0110 - mae: 0.0110 - mape: 242.7138 - val_loss: 0.0138 - val_mae: 0.0138 - val_mape: 6.2654\n",
      "Epoch 7/60\n",
      "2642/2653 [============================>.] - ETA: 0s - loss: 0.0105 - mae: 0.0105 - mape: 295.3424\n",
      "Epoch 7: val_loss improved from 0.01193 to 0.00960, saving model to C:\\Users\\Administrator\\Downloads\\ML Lab\\checkpoint\\ML Lab\\lab8\\E1-cp-0007-loss0.01.h5\n",
      "2653/2653 [==============================] - 11s 4ms/step - loss: 0.0105 - mae: 0.0105 - mape: 294.1781 - val_loss: 0.0096 - val_mae: 0.0096 - val_mape: 4.4297\n",
      "Epoch 8/60\n",
      "2646/2653 [============================>.] - ETA: 0s - loss: 0.0101 - mae: 0.0101 - mape: 277.1190\n",
      "Epoch 8: val_loss did not improve from 0.00960\n",
      "2653/2653 [==============================] - 10s 4ms/step - loss: 0.0101 - mae: 0.0101 - mape: 276.4411 - val_loss: 0.0105 - val_mae: 0.0105 - val_mape: 5.5115\n",
      "Epoch 9/60\n",
      "2653/2653 [==============================] - ETA: 0s - loss: 0.0098 - mae: 0.0098 - mape: 210.5707\n",
      "Epoch 9: val_loss did not improve from 0.00960\n",
      "2653/2653 [==============================] - 9s 3ms/step - loss: 0.0098 - mae: 0.0098 - mape: 210.5707 - val_loss: 0.0098 - val_mae: 0.0098 - val_mape: 4.0836\n",
      "Epoch 10/60\n",
      "2645/2653 [============================>.] - ETA: 0s - loss: 0.0096 - mae: 0.0096 - mape: 401.8529\n",
      "Epoch 10: val_loss improved from 0.00960 to 0.00935, saving model to C:\\Users\\Administrator\\Downloads\\ML Lab\\checkpoint\\ML Lab\\lab8\\E1-cp-0010-loss0.01.h5\n",
      "2653/2653 [==============================] - 24s 9ms/step - loss: 0.0096 - mae: 0.0096 - mape: 400.7155 - val_loss: 0.0093 - val_mae: 0.0093 - val_mape: 4.4634\n",
      "Epoch 11/60\n",
      "2637/2653 [============================>.] - ETA: 0s - loss: 0.0095 - mae: 0.0095 - mape: 193.3632\n",
      "Epoch 11: val_loss did not improve from 0.00935\n",
      "2653/2653 [==============================] - 9s 4ms/step - loss: 0.0095 - mae: 0.0095 - mape: 192.2488 - val_loss: 0.0111 - val_mae: 0.0111 - val_mape: 5.5385\n",
      "Epoch 12/60\n",
      "2651/2653 [============================>.] - ETA: 0s - loss: 0.0093 - mae: 0.0093 - mape: 385.1135\n",
      "Epoch 12: val_loss improved from 0.00935 to 0.00855, saving model to C:\\Users\\Administrator\\Downloads\\ML Lab\\checkpoint\\ML Lab\\lab8\\E1-cp-0012-loss0.01.h5\n",
      "2653/2653 [==============================] - 10s 4ms/step - loss: 0.0093 - mae: 0.0093 - mape: 384.8885 - val_loss: 0.0086 - val_mae: 0.0086 - val_mape: 4.9203\n",
      "Epoch 13/60\n",
      "2638/2653 [============================>.] - ETA: 0s - loss: 0.0092 - mae: 0.0092 - mape: 435.0507\n",
      "Epoch 13: val_loss did not improve from 0.00855\n",
      "2653/2653 [==============================] - 11s 4ms/step - loss: 0.0092 - mae: 0.0092 - mape: 432.6805 - val_loss: 0.0109 - val_mae: 0.0109 - val_mape: 5.8054\n",
      "Epoch 14/60\n",
      "2650/2653 [============================>.] - ETA: 0s - loss: 0.0090 - mae: 0.0090 - mape: 727.2311\n",
      "Epoch 14: val_loss improved from 0.00855 to 0.00745, saving model to C:\\Users\\Administrator\\Downloads\\ML Lab\\checkpoint\\ML Lab\\lab8\\E1-cp-0014-loss0.01.h5\n",
      "2653/2653 [==============================] - 11s 4ms/step - loss: 0.0090 - mae: 0.0090 - mape: 726.5309 - val_loss: 0.0075 - val_mae: 0.0075 - val_mape: 4.4924\n",
      "Epoch 15/60\n",
      "2647/2653 [============================>.] - ETA: 0s - loss: 0.0088 - mae: 0.0088 - mape: 553.3229\n",
      "Epoch 15: val_loss did not improve from 0.00745\n",
      "2653/2653 [==============================] - 10s 4ms/step - loss: 0.0088 - mae: 0.0088 - mape: 552.1689 - val_loss: 0.0094 - val_mae: 0.0094 - val_mape: 5.8348\n",
      "Epoch 16/60\n",
      "2638/2653 [============================>.] - ETA: 0s - loss: 0.0088 - mae: 0.0088 - mape: 678.0559\n",
      "Epoch 16: val_loss did not improve from 0.00745\n",
      "2653/2653 [==============================] - 11s 4ms/step - loss: 0.0088 - mae: 0.0088 - mape: 674.3495 - val_loss: 0.0077 - val_mae: 0.0077 - val_mape: 4.7452\n",
      "Epoch 17/60\n",
      "2649/2653 [============================>.] - ETA: 0s - loss: 0.0087 - mae: 0.0087 - mape: 417.0811\n",
      "Epoch 17: val_loss did not improve from 0.00745\n",
      "2653/2653 [==============================] - 11s 4ms/step - loss: 0.0087 - mae: 0.0087 - mape: 416.5251 - val_loss: 0.0123 - val_mae: 0.0123 - val_mape: 8.3800\n",
      "Epoch 18/60\n",
      "2650/2653 [============================>.] - ETA: 0s - loss: 0.0086 - mae: 0.0086 - mape: 366.0638\n",
      "Epoch 18: val_loss did not improve from 0.00745\n",
      "2653/2653 [==============================] - 12s 5ms/step - loss: 0.0086 - mae: 0.0086 - mape: 365.7132 - val_loss: 0.0093 - val_mae: 0.0093 - val_mape: 5.8940\n",
      "Epoch 19/60\n",
      "2646/2653 [============================>.] - ETA: 0s - loss: 0.0085 - mae: 0.0085 - mape: 558.5150\n",
      "Epoch 19: val_loss did not improve from 0.00745\n",
      "2653/2653 [==============================] - 10s 4ms/step - loss: 0.0085 - mae: 0.0085 - mape: 557.1402 - val_loss: 0.0090 - val_mae: 0.0090 - val_mape: 5.3601\n",
      "Epoch 20/60\n",
      "2648/2653 [============================>.] - ETA: 0s - loss: 0.0086 - mae: 0.0086 - mape: 573.6665\n",
      "Epoch 20: val_loss did not improve from 0.00745\n",
      "2653/2653 [==============================] - 10s 4ms/step - loss: 0.0087 - mae: 0.0087 - mape: 572.6841 - val_loss: 0.0082 - val_mae: 0.0082 - val_mape: 4.9388\n",
      "Epoch 21/60\n",
      "2648/2653 [============================>.] - ETA: 0s - loss: 0.0086 - mae: 0.0086 - mape: 351.7434\n",
      "Epoch 21: val_loss did not improve from 0.00745\n",
      "2653/2653 [==============================] - 11s 4ms/step - loss: 0.0085 - mae: 0.0085 - mape: 351.1424 - val_loss: 0.0076 - val_mae: 0.0076 - val_mape: 5.0437\n",
      "Epoch 22/60\n",
      "2649/2653 [============================>.] - ETA: 0s - loss: 0.0085 - mae: 0.0085 - mape: 443.4452\n",
      "Epoch 22: val_loss did not improve from 0.00745\n",
      "2653/2653 [==============================] - 13s 5ms/step - loss: 0.0085 - mae: 0.0085 - mape: 442.8526 - val_loss: 0.0086 - val_mae: 0.0086 - val_mape: 4.8379\n",
      "Epoch 23/60\n",
      "2646/2653 [============================>.] - ETA: 0s - loss: 0.0085 - mae: 0.0085 - mape: 389.8408\n",
      "Epoch 23: val_loss did not improve from 0.00745\n",
      "2653/2653 [==============================] - 11s 4ms/step - loss: 0.0085 - mae: 0.0085 - mape: 388.8823 - val_loss: 0.0082 - val_mae: 0.0082 - val_mape: 5.0213\n",
      "Epoch 24/60\n",
      "2643/2653 [============================>.] - ETA: 0s - loss: 0.0084 - mae: 0.0084 - mape: 501.7195\n",
      "Epoch 24: val_loss did not improve from 0.00745\n",
      "2653/2653 [==============================] - 10s 4ms/step - loss: 0.0084 - mae: 0.0084 - mape: 499.9222 - val_loss: 0.0093 - val_mae: 0.0093 - val_mape: 5.5931\n",
      "Epoch 25/60\n",
      "2644/2653 [============================>.] - ETA: 0s - loss: 0.0083 - mae: 0.0083 - mape: 558.8282\n",
      "Epoch 25: val_loss did not improve from 0.00745\n",
      "2653/2653 [==============================] - 12s 5ms/step - loss: 0.0083 - mae: 0.0083 - mape: 557.0339 - val_loss: 0.0078 - val_mae: 0.0078 - val_mape: 5.3070\n",
      "Epoch 26/60\n",
      "2647/2653 [============================>.] - ETA: 0s - loss: 0.0084 - mae: 0.0084 - mape: 486.0403\n",
      "Epoch 26: val_loss did not improve from 0.00745\n",
      "2653/2653 [==============================] - 11s 4ms/step - loss: 0.0084 - mae: 0.0084 - mape: 485.0260 - val_loss: 0.0083 - val_mae: 0.0083 - val_mape: 5.6255\n",
      "Epoch 27/60\n",
      "2651/2653 [============================>.] - ETA: 0s - loss: 0.0082 - mae: 0.0082 - mape: 517.4712\n",
      "Epoch 27: val_loss did not improve from 0.00745\n",
      "2653/2653 [==============================] - 11s 4ms/step - loss: 0.0082 - mae: 0.0082 - mape: 517.1685 - val_loss: 0.0079 - val_mae: 0.0079 - val_mape: 4.9897\n",
      "Epoch 28/60\n",
      "2646/2653 [============================>.] - ETA: 0s - loss: 0.0083 - mae: 0.0083 - mape: 626.5484\n",
      "Epoch 28: val_loss did not improve from 0.00745\n",
      "2653/2653 [==============================] - 11s 4ms/step - loss: 0.0083 - mae: 0.0083 - mape: 625.0070 - val_loss: 0.0090 - val_mae: 0.0090 - val_mape: 5.8186\n",
      "Epoch 29/60\n",
      "2642/2653 [============================>.] - ETA: 0s - loss: 0.0083 - mae: 0.0083 - mape: 653.9968\n",
      "Epoch 29: val_loss did not improve from 0.00745\n",
      "2653/2653 [==============================] - 10s 4ms/step - loss: 0.0083 - mae: 0.0083 - mape: 651.4040 - val_loss: 0.0086 - val_mae: 0.0086 - val_mape: 5.2882\n",
      "Epoch 30/60\n",
      "2650/2653 [============================>.] - ETA: 0s - loss: 0.0082 - mae: 0.0082 - mape: 587.2580\n",
      "Epoch 30: val_loss did not improve from 0.00745\n",
      "2653/2653 [==============================] - 10s 4ms/step - loss: 0.0082 - mae: 0.0082 - mape: 586.6932 - val_loss: 0.0082 - val_mae: 0.0082 - val_mape: 5.7246\n",
      "Epoch 31/60\n",
      "2652/2653 [============================>.] - ETA: 0s - loss: 0.0082 - mae: 0.0082 - mape: 593.2757\n",
      "Epoch 31: val_loss did not improve from 0.00745\n",
      "2653/2653 [==============================] - 10s 4ms/step - loss: 0.0082 - mae: 0.0082 - mape: 593.1503 - val_loss: 0.0076 - val_mae: 0.0076 - val_mape: 5.1365\n",
      "Epoch 32/60\n",
      "2642/2653 [============================>.] - ETA: 0s - loss: 0.0082 - mae: 0.0082 - mape: 537.7489\n",
      "Epoch 32: val_loss did not improve from 0.00745\n",
      "2653/2653 [==============================] - 10s 4ms/step - loss: 0.0082 - mae: 0.0082 - mape: 535.6184 - val_loss: 0.0087 - val_mae: 0.0087 - val_mape: 5.1323\n",
      "Epoch 33/60\n",
      "2647/2653 [============================>.] - ETA: 0s - loss: 0.0082 - mae: 0.0082 - mape: 508.7587\n",
      "Epoch 33: val_loss did not improve from 0.00745\n",
      "2653/2653 [==============================] - 10s 4ms/step - loss: 0.0082 - mae: 0.0082 - mape: 507.6982 - val_loss: 0.0124 - val_mae: 0.0124 - val_mape: 7.6873\n",
      "Epoch 34/60\n",
      "2652/2653 [============================>.] - ETA: 0s - loss: 0.0082 - mae: 0.0082 - mape: 619.0492\n",
      "Epoch 34: val_loss did not improve from 0.00745\n",
      "2653/2653 [==============================] - 10s 4ms/step - loss: 0.0082 - mae: 0.0082 - mape: 618.9185 - val_loss: 0.0078 - val_mae: 0.0078 - val_mape: 5.2160\n",
      "Epoch 35/60\n",
      "2648/2653 [============================>.] - ETA: 0s - loss: 0.0080 - mae: 0.0080 - mape: 651.3672\n",
      "Epoch 35: val_loss did not improve from 0.00745\n",
      "2653/2653 [==============================] - 10s 4ms/step - loss: 0.0080 - mae: 0.0080 - mape: 650.2509 - val_loss: 0.0077 - val_mae: 0.0077 - val_mape: 5.1651\n",
      "Epoch 36/60\n",
      "2649/2653 [============================>.] - ETA: 0s - loss: 0.0082 - mae: 0.0082 - mape: 606.0157\n",
      "Epoch 36: val_loss did not improve from 0.00745\n",
      "2653/2653 [==============================] - 10s 4ms/step - loss: 0.0082 - mae: 0.0082 - mape: 605.2056 - val_loss: 0.0078 - val_mae: 0.0078 - val_mape: 5.3483\n",
      "Epoch 37/60\n",
      "2652/2653 [============================>.] - ETA: 0s - loss: 0.0081 - mae: 0.0081 - mape: 487.7781\n",
      "Epoch 37: val_loss did not improve from 0.00745\n",
      "2653/2653 [==============================] - 10s 4ms/step - loss: 0.0081 - mae: 0.0081 - mape: 487.6754 - val_loss: 0.0079 - val_mae: 0.0079 - val_mape: 5.1025\n",
      "Epoch 38/60\n",
      "2653/2653 [==============================] - ETA: 0s - loss: 0.0083 - mae: 0.0083 - mape: 591.3622\n",
      "Epoch 38: val_loss improved from 0.00745 to 0.00736, saving model to C:\\Users\\Administrator\\Downloads\\ML Lab\\checkpoint\\ML Lab\\lab8\\E1-cp-0038-loss0.01.h5\n",
      "2653/2653 [==============================] - 10s 4ms/step - loss: 0.0083 - mae: 0.0083 - mape: 591.3622 - val_loss: 0.0074 - val_mae: 0.0074 - val_mape: 5.6569\n",
      "Epoch 39/60\n",
      "2642/2653 [============================>.] - ETA: 0s - loss: 0.0081 - mae: 0.0081 - mape: 524.6314\n",
      "Epoch 39: val_loss did not improve from 0.00736\n",
      "2653/2653 [==============================] - 10s 4ms/step - loss: 0.0081 - mae: 0.0081 - mape: 522.5530 - val_loss: 0.0077 - val_mae: 0.0077 - val_mape: 5.1891\n",
      "Epoch 40/60\n",
      "2647/2653 [============================>.] - ETA: 0s - loss: 0.0082 - mae: 0.0082 - mape: 817.2885\n",
      "Epoch 40: val_loss did not improve from 0.00736\n",
      "2653/2653 [==============================] - 10s 4ms/step - loss: 0.0082 - mae: 0.0082 - mape: 815.5803 - val_loss: 0.0086 - val_mae: 0.0086 - val_mape: 6.0136\n",
      "Epoch 41/60\n",
      "2636/2653 [============================>.] - ETA: 0s - loss: 0.0080 - mae: 0.0080 - mape: 702.2712\n",
      "Epoch 41: val_loss did not improve from 0.00736\n",
      "2653/2653 [==============================] - 10s 4ms/step - loss: 0.0080 - mae: 0.0080 - mape: 697.9023 - val_loss: 0.0080 - val_mae: 0.0080 - val_mape: 5.1964\n",
      "Epoch 42/60\n",
      "2651/2653 [============================>.] - ETA: 0s - loss: 0.0081 - mae: 0.0081 - mape: 522.3816\n",
      "Epoch 42: val_loss did not improve from 0.00736\n",
      "2653/2653 [==============================] - 10s 4ms/step - loss: 0.0081 - mae: 0.0081 - mape: 522.0762 - val_loss: 0.0089 - val_mae: 0.0089 - val_mape: 5.7571\n",
      "Epoch 43/60\n",
      "2649/2653 [============================>.] - ETA: 0s - loss: 0.0080 - mae: 0.0080 - mape: 650.8388\n",
      "Epoch 43: val_loss did not improve from 0.00736\n",
      "2653/2653 [==============================] - 10s 4ms/step - loss: 0.0080 - mae: 0.0080 - mape: 649.9680 - val_loss: 0.0079 - val_mae: 0.0079 - val_mape: 4.9729\n",
      "Epoch 44/60\n",
      "2636/2653 [============================>.] - ETA: 0s - loss: 0.0080 - mae: 0.0080 - mape: 605.5427\n",
      "Epoch 44: val_loss did not improve from 0.00736\n",
      "2653/2653 [==============================] - 10s 4ms/step - loss: 0.0080 - mae: 0.0080 - mape: 601.7793 - val_loss: 0.0074 - val_mae: 0.0074 - val_mape: 4.9844\n",
      "Epoch 45/60\n",
      "2650/2653 [============================>.] - ETA: 0s - loss: 0.0079 - mae: 0.0079 - mape: 649.2358\n",
      "Epoch 45: val_loss did not improve from 0.00736\n",
      "2653/2653 [==============================] - 10s 4ms/step - loss: 0.0079 - mae: 0.0079 - mape: 648.6118 - val_loss: 0.0080 - val_mae: 0.0080 - val_mape: 5.4684\n",
      "Epoch 46/60\n",
      "2646/2653 [============================>.] - ETA: 0s - loss: 0.0080 - mae: 0.0080 - mape: 667.5604\n",
      "Epoch 46: val_loss did not improve from 0.00736\n",
      "2653/2653 [==============================] - 10s 4ms/step - loss: 0.0080 - mae: 0.0080 - mape: 665.9182 - val_loss: 0.0091 - val_mae: 0.0091 - val_mape: 5.4477\n",
      "Epoch 47/60\n",
      "2650/2653 [============================>.] - ETA: 0s - loss: 0.0079 - mae: 0.0079 - mape: 605.5366\n",
      "Epoch 47: val_loss did not improve from 0.00736\n",
      "2653/2653 [==============================] - 10s 4ms/step - loss: 0.0079 - mae: 0.0079 - mape: 604.9550 - val_loss: 0.0075 - val_mae: 0.0075 - val_mape: 5.1116\n",
      "Epoch 48/60\n",
      "2646/2653 [============================>.] - ETA: 0s - loss: 0.0080 - mae: 0.0080 - mape: 572.7466\n",
      "Epoch 48: val_loss did not improve from 0.00736\n",
      "2653/2653 [==============================] - 10s 4ms/step - loss: 0.0080 - mae: 0.0080 - mape: 571.3354 - val_loss: 0.0077 - val_mae: 0.0077 - val_mape: 4.8820\n",
      "Epoch 49/60\n",
      "2642/2653 [============================>.] - ETA: 0s - loss: 0.0080 - mae: 0.0080 - mape: 597.5588\n",
      "Epoch 49: val_loss did not improve from 0.00736\n",
      "2653/2653 [==============================] - 10s 4ms/step - loss: 0.0080 - mae: 0.0080 - mape: 595.1900 - val_loss: 0.0077 - val_mae: 0.0077 - val_mape: 4.8254\n",
      "Epoch 50/60\n",
      "2651/2653 [============================>.] - ETA: 0s - loss: 0.0081 - mae: 0.0081 - mape: 804.2679\n",
      "Epoch 50: val_loss did not improve from 0.00736\n",
      "2653/2653 [==============================] - 10s 4ms/step - loss: 0.0081 - mae: 0.0081 - mape: 803.7958 - val_loss: 0.0076 - val_mae: 0.0076 - val_mape: 5.4893\n",
      "Epoch 51/60\n",
      "2639/2653 [============================>.] - ETA: 0s - loss: 0.0078 - mae: 0.0078 - mape: 570.0074\n",
      "Epoch 51: val_loss did not improve from 0.00736\n",
      "2653/2653 [==============================] - 11s 4ms/step - loss: 0.0078 - mae: 0.0078 - mape: 567.1074 - val_loss: 0.0095 - val_mae: 0.0095 - val_mape: 6.3982\n",
      "Epoch 52/60\n",
      "2649/2653 [============================>.] - ETA: 0s - loss: 0.0079 - mae: 0.0079 - mape: 803.9344\n",
      "Epoch 52: val_loss did not improve from 0.00736\n",
      "2653/2653 [==============================] - 18s 7ms/step - loss: 0.0079 - mae: 0.0079 - mape: 802.8578 - val_loss: 0.0076 - val_mae: 0.0076 - val_mape: 4.8937\n",
      "Epoch 53/60\n",
      "2651/2653 [============================>.] - ETA: 0s - loss: 0.0080 - mae: 0.0080 - mape: 719.6833\n",
      "Epoch 53: val_loss did not improve from 0.00736\n",
      "2653/2653 [==============================] - 11s 4ms/step - loss: 0.0080 - mae: 0.0080 - mape: 719.2610 - val_loss: 0.0088 - val_mae: 0.0088 - val_mape: 5.4342\n",
      "Epoch 54/60\n",
      "2645/2653 [============================>.] - ETA: 0s - loss: 0.0079 - mae: 0.0079 - mape: 763.8358\n",
      "Epoch 54: val_loss did not improve from 0.00736\n",
      "2653/2653 [==============================] - 10s 4ms/step - loss: 0.0079 - mae: 0.0079 - mape: 761.6668 - val_loss: 0.0076 - val_mae: 0.0076 - val_mape: 5.2271\n",
      "Epoch 55/60\n",
      "2650/2653 [============================>.] - ETA: 0s - loss: 0.0078 - mae: 0.0078 - mape: 634.6776\n",
      "Epoch 55: val_loss did not improve from 0.00736\n",
      "2653/2653 [==============================] - 10s 4ms/step - loss: 0.0078 - mae: 0.0078 - mape: 634.0675 - val_loss: 0.0089 - val_mae: 0.0089 - val_mape: 5.7621\n",
      "Epoch 56/60\n",
      "2644/2653 [============================>.] - ETA: 0s - loss: 0.0080 - mae: 0.0080 - mape: 801.4309\n",
      "Epoch 56: val_loss improved from 0.00736 to 0.00733, saving model to C:\\Users\\Administrator\\Downloads\\ML Lab\\checkpoint\\ML Lab\\lab8\\E1-cp-0056-loss0.01.h5\n",
      "2653/2653 [==============================] - 12s 4ms/step - loss: 0.0080 - mae: 0.0080 - mape: 798.8514 - val_loss: 0.0073 - val_mae: 0.0073 - val_mape: 5.2860\n",
      "Epoch 57/60\n",
      "2649/2653 [============================>.] - ETA: 0s - loss: 0.0079 - mae: 0.0079 - mape: 747.7482\n",
      "Epoch 57: val_loss did not improve from 0.00733\n",
      "2653/2653 [==============================] - 25s 9ms/step - loss: 0.0079 - mae: 0.0079 - mape: 746.7469 - val_loss: 0.0074 - val_mae: 0.0074 - val_mape: 5.3484\n",
      "Epoch 58/60\n",
      "2638/2653 [============================>.] - ETA: 0s - loss: 0.0079 - mae: 0.0079 - mape: 636.1476\n",
      "Epoch 58: val_loss improved from 0.00733 to 0.00728, saving model to C:\\Users\\Administrator\\Downloads\\ML Lab\\checkpoint\\ML Lab\\lab8\\E1-cp-0058-loss0.01.h5\n",
      "2653/2653 [==============================] - 11s 4ms/step - loss: 0.0079 - mae: 0.0079 - mape: 632.6687 - val_loss: 0.0073 - val_mae: 0.0073 - val_mape: 5.2066\n",
      "Epoch 59/60\n",
      "2647/2653 [============================>.] - ETA: 0s - loss: 0.0079 - mae: 0.0079 - mape: 689.7190\n",
      "Epoch 59: val_loss did not improve from 0.00728\n",
      "2653/2653 [==============================] - 10s 4ms/step - loss: 0.0079 - mae: 0.0079 - mape: 688.2773 - val_loss: 0.0079 - val_mae: 0.0079 - val_mape: 5.0611\n",
      "Epoch 60/60\n",
      "2648/2653 [============================>.] - ETA: 0s - loss: 0.0079 - mae: 0.0079 - mape: 830.4598\n",
      "Epoch 60: val_loss did not improve from 0.00728\n",
      "2653/2653 [==============================] - 11s 4ms/step - loss: 0.0079 - mae: 0.0079 - mape: 829.0355 - val_loss: 0.0076 - val_mae: 0.0076 - val_mape: 5.6489\n"
     ]
    }
   ],
   "source": [
    "epochs = 60\n",
    "verbose = 1 #0\n",
    "batch_size = 32\n",
    "History = model.fit(train_X,\n",
    "                        train_y,\n",
    "                        batch_size=batch_size,   \n",
    "                        epochs = epochs, \n",
    "                        validation_data = (validation_X,validation_y),\n",
    "                        callbacks=callbacks,verbose = verbose)"
   ]
  },
  {
   "cell_type": "code",
   "execution_count": 15,
   "metadata": {},
   "outputs": [
    {
     "name": "stdout",
     "output_type": "stream",
     "text": [
      "379/379 [==============================] - 1s 1ms/step\n",
      "Mean Absolute Error (MAE): 115.8\n",
      "Median Absolute Error (MedAE): 93.33\n",
      "Mean Squared Error (MSE): 23421.23\n",
      "Root Mean Squared Error (RMSE): 153.04\n",
      "Mean Absolute Percentage Error (MAPE): 0.8 %\n",
      "Median Absolute Percentage Error (MDAPE): 0.64 %\n",
      "\n",
      "\n",
      "y_test_unscaled.shape=  (12105, 1)\n",
      "y_pred.shape=  (12105, 1)\n"
     ]
    }
   ],
   "source": [
    "\n",
    "model = load_model(r'C:\\Users\\Administrator\\Downloads\\ML Lab\\checkpoint\\ML Lab\\lab8\\E1-cp-0058-loss0.01.h5')\n",
    "\n",
    "y_pred_scaled   = model.predict(test_X)\n",
    "y_pred          = scaler.inverse_transform(y_pred_scaled)\n",
    "y_test_unscaled = scaler.inverse_transform(test_y)\n",
    "# Mean Absolute Error (MAE)\n",
    "MAE = np.mean(abs(y_pred - y_test_unscaled)) \n",
    "print('Mean Absolute Error (MAE): ' + str(np.round(MAE, 2)))\n",
    "\n",
    "# Median Absolute Error (MedAE)\n",
    "MEDAE = np.median(abs(y_pred - y_test_unscaled))\n",
    "print('Median Absolute Error (MedAE): ' + str(np.round(MEDAE, 2)))\n",
    "\n",
    "# Mean Squared Error (MSE)\n",
    "MSE = np.square(np.subtract(y_pred, y_test_unscaled)).mean()\n",
    "print('Mean Squared Error (MSE): ' + str(np.round(MSE, 2)))\n",
    "\n",
    "# Root Mean Squarred Error (RMSE) \n",
    "RMSE = np.sqrt(np.mean(np.square(y_pred - y_test_unscaled)))\n",
    "print('Root Mean Squared Error (RMSE): ' + str(np.round(RMSE, 2)))\n",
    "\n",
    "# Mean Absolute Percentage Error (MAPE)\n",
    "MAPE = np.mean((np.abs(np.subtract(y_test_unscaled, y_pred)/ y_test_unscaled))) * 100\n",
    "print('Mean Absolute Percentage Error (MAPE): ' + str(np.round(MAPE, 2)) + ' %')\n",
    "\n",
    "# Median Absolute Percentage Error (MDAPE)\n",
    "MDAPE = np.median((np.abs(np.subtract(y_test_unscaled, y_pred)/ y_test_unscaled))) * 100\n",
    "print('Median Absolute Percentage Error (MDAPE): ' + str(np.round(MDAPE, 2)) + ' %')\n",
    "\n",
    "print('\\n\\ny_test_unscaled.shape= ',y_test_unscaled.shape)\n",
    "print('y_pred.shape= ',y_pred.shape)"
   ]
  },
  {
   "cell_type": "code",
   "execution_count": 16,
   "metadata": {},
   "outputs": [],
   "source": [
    "checkpoints = r'C:\\Users\\Administrator\\Downloads\\ML Lab\\checkpoint\\ML Lab\\lab8\\E2-cp-{epoch:04d}-loss{val_loss:.2f}.h5'\n",
    "model=r'C:\\Users\\Administrator\\Downloads\\ML Lab\\checkpoint\\ML Lab\\lab8\\E1-cp-0058-loss0.01.h5'\n",
    "start_epoch= 58"
   ]
  },
  {
   "cell_type": "code",
   "execution_count": 17,
   "metadata": {},
   "outputs": [
    {
     "name": "stdout",
     "output_type": "stream",
     "text": [
      "[INFO] loading C:\\Users\\Administrator\\Downloads\\ML Lab\\checkpoint\\ML Lab\\lab8\\E1-cp-0058-loss0.01.h5...\n",
      "[INFO] old learning rate: 0.0010000000474974513\n",
      "[INFO] new learning rate: 9.999999747378752e-05\n"
     ]
    }
   ],
   "source": [
    "# construct the callback to save only the *best* model to disk\n",
    "# based on the validation loss\n",
    "EpochCheckpoint1 = ModelCheckpoint(checkpoints,\n",
    "                             monitor=\"val_loss\",\n",
    "                             save_best_only=True, \n",
    "                             verbose=1)\n",
    "TrainingMonitor1=TrainingMonitor(FIG_PATH, jsonPath=JSON_PATH, startAt=start_epoch)\n",
    "\n",
    "# construct the set of callbacks\n",
    "callbacks = [EpochCheckpoint1,TrainingMonitor1]\n",
    "# if there is no specific model checkpoint supplied, then initialize\n",
    "# the network and compile the model\n",
    "if model is None:\n",
    "    print(\"[INFO] compiling model...\")\n",
    "    model = PC.build(time_steps=24, num_features=21, reg=0.0005)\n",
    "    opt = Adam(1e-3)\n",
    "    model.compile(loss= 'mae', optimizer=opt, metrics=[\"mae\", \"mape\"])\n",
    "# otherwise, load the checkpoint from disk\n",
    "else:\n",
    "    print(\"[INFO] loading {}...\".format(model))\n",
    "    model = load_model(model)\n",
    "\n",
    "    # update the learning rate\n",
    "    print(\"[INFO] old learning rate: {}\".format(K.get_value(model.optimizer.lr)))\n",
    "    K.set_value(model.optimizer.lr, 1e-4)\n",
    "    print(\"[INFO] new learning rate: {}\".format(K.get_value(model.optimizer.lr)))"
   ]
  },
  {
   "cell_type": "code",
   "execution_count": 18,
   "metadata": {},
   "outputs": [
    {
     "name": "stdout",
     "output_type": "stream",
     "text": [
      "Epoch 1/10\n",
      "2651/2653 [============================>.] - ETA: 0s - loss: 0.0064 - mae: 0.0064 - mape: 711.7792\n",
      "Epoch 1: val_loss improved from inf to 0.00659, saving model to C:\\Users\\Administrator\\Downloads\\ML Lab\\checkpoint\\ML Lab\\lab8\\E2-cp-0001-loss0.01.h5\n",
      "2653/2653 [==============================] - 36s 13ms/step - loss: 0.0064 - mae: 0.0064 - mape: 711.3610 - val_loss: 0.0066 - val_mae: 0.0066 - val_mape: 4.3460\n",
      "Epoch 2/10\n",
      "2644/2653 [============================>.] - ETA: 0s - loss: 0.0063 - mae: 0.0063 - mape: 578.1265\n",
      "Epoch 2: val_loss improved from 0.00659 to 0.00642, saving model to C:\\Users\\Administrator\\Downloads\\ML Lab\\checkpoint\\ML Lab\\lab8\\E2-cp-0002-loss0.01.h5\n",
      "2653/2653 [==============================] - 10s 4ms/step - loss: 0.0063 - mae: 0.0063 - mape: 576.2668 - val_loss: 0.0064 - val_mae: 0.0064 - val_mape: 4.2309\n",
      "Epoch 3/10\n",
      "2646/2653 [============================>.] - ETA: 0s - loss: 0.0063 - mae: 0.0063 - mape: 551.6437\n",
      "Epoch 3: val_loss did not improve from 0.00642\n",
      "2653/2653 [==============================] - 9s 3ms/step - loss: 0.0063 - mae: 0.0063 - mape: 550.2834 - val_loss: 0.0064 - val_mae: 0.0064 - val_mape: 4.0820\n",
      "Epoch 4/10\n",
      "2646/2653 [============================>.] - ETA: 0s - loss: 0.0063 - mae: 0.0063 - mape: 530.7892\n",
      "Epoch 4: val_loss improved from 0.00642 to 0.00635, saving model to C:\\Users\\Administrator\\Downloads\\ML Lab\\checkpoint\\ML Lab\\lab8\\E2-cp-0004-loss0.01.h5\n",
      "2653/2653 [==============================] - 10s 4ms/step - loss: 0.0063 - mae: 0.0063 - mape: 529.4807 - val_loss: 0.0063 - val_mae: 0.0063 - val_mape: 3.9228\n",
      "Epoch 5/10\n",
      "2646/2653 [============================>.] - ETA: 0s - loss: 0.0063 - mae: 0.0063 - mape: 508.4587\n",
      "Epoch 5: val_loss did not improve from 0.00635\n",
      "2653/2653 [==============================] - 9s 3ms/step - loss: 0.0063 - mae: 0.0063 - mape: 507.2063 - val_loss: 0.0064 - val_mae: 0.0064 - val_mape: 3.8944\n",
      "Epoch 6/10\n",
      "2641/2653 [============================>.] - ETA: 0s - loss: 0.0062 - mae: 0.0062 - mape: 488.7381\n",
      "Epoch 6: val_loss did not improve from 0.00635\n",
      "2653/2653 [==============================] - 11s 4ms/step - loss: 0.0062 - mae: 0.0062 - mape: 486.6173 - val_loss: 0.0064 - val_mae: 0.0064 - val_mape: 3.9434\n",
      "Epoch 7/10\n",
      "2641/2653 [============================>.] - ETA: 0s - loss: 0.0062 - mae: 0.0062 - mape: 509.4472\n",
      "Epoch 7: val_loss did not improve from 0.00635\n",
      "2653/2653 [==============================] - 10s 4ms/step - loss: 0.0062 - mae: 0.0062 - mape: 507.2358 - val_loss: 0.0065 - val_mae: 0.0065 - val_mape: 3.9014\n",
      "Epoch 8/10\n",
      "2650/2653 [============================>.] - ETA: 0s - loss: 0.0062 - mae: 0.0062 - mape: 480.2416\n",
      "Epoch 8: val_loss improved from 0.00635 to 0.00629, saving model to C:\\Users\\Administrator\\Downloads\\ML Lab\\checkpoint\\ML Lab\\lab8\\E2-cp-0008-loss0.01.h5\n",
      "2653/2653 [==============================] - 11s 4ms/step - loss: 0.0062 - mae: 0.0062 - mape: 479.7799 - val_loss: 0.0063 - val_mae: 0.0063 - val_mape: 3.7243\n",
      "Epoch 9/10\n",
      "2653/2653 [==============================] - ETA: 0s - loss: 0.0062 - mae: 0.0062 - mape: 507.7181\n",
      "Epoch 9: val_loss did not improve from 0.00629\n",
      "2653/2653 [==============================] - 9s 3ms/step - loss: 0.0062 - mae: 0.0062 - mape: 507.7181 - val_loss: 0.0064 - val_mae: 0.0064 - val_mape: 3.7964\n",
      "Epoch 10/10\n",
      "2636/2653 [============================>.] - ETA: 0s - loss: 0.0062 - mae: 0.0062 - mape: 439.2181\n",
      "Epoch 10: val_loss did not improve from 0.00629\n",
      "2653/2653 [==============================] - 10s 4ms/step - loss: 0.0062 - mae: 0.0062 - mape: 436.4884 - val_loss: 0.0065 - val_mae: 0.0065 - val_mape: 3.7851\n"
     ]
    }
   ],
   "source": [
    "epochs = 10\n",
    "verbose = 1 #0\n",
    "batch_size = 32\n",
    "History = model.fit(train_X,\n",
    "                        train_y,\n",
    "                        batch_size=batch_size,   \n",
    "                        epochs = epochs, \n",
    "                        validation_data = (validation_X,validation_y),\n",
    "                        callbacks=callbacks,\n",
    "                        verbose = verbose)"
   ]
  },
  {
   "cell_type": "code",
   "execution_count": 19,
   "metadata": {},
   "outputs": [
    {
     "name": "stdout",
     "output_type": "stream",
     "text": [
      "379/379 [==============================] - 1s 2ms/step\n",
      "Mean Absolute Error (MAE): 103.3\n",
      "Median Absolute Error (MedAE): 82.18\n",
      "Mean Squared Error (MSE): 18772.44\n",
      "Root Mean Squared Error (RMSE): 137.01\n",
      "Mean Absolute Percentage Error (MAPE): 0.71 %\n",
      "Median Absolute Percentage Error (MDAPE): 0.57 %\n",
      "\n",
      "\n",
      "y_test_unscaled.shape=  (12105, 1)\n",
      "y_pred.shape=  (12105, 1)\n"
     ]
    }
   ],
   "source": [
    "\n",
    "model = load_model(r'C:\\Users\\Administrator\\Downloads\\ML Lab\\checkpoint\\ML Lab\\lab8\\E2-cp-0008-loss0.01.h5')\n",
    "\n",
    "y_pred_scaled   = model.predict(test_X)\n",
    "y_pred          = scaler.inverse_transform(y_pred_scaled)\n",
    "y_test_unscaled = scaler.inverse_transform(test_y)\n",
    "# Mean Absolute Error (MAE)\n",
    "MAE = np.mean(abs(y_pred - y_test_unscaled)) \n",
    "print('Mean Absolute Error (MAE): ' + str(np.round(MAE, 2)))\n",
    "\n",
    "# Median Absolute Error (MedAE)\n",
    "MEDAE = np.median(abs(y_pred - y_test_unscaled))\n",
    "print('Median Absolute Error (MedAE): ' + str(np.round(MEDAE, 2)))\n",
    "\n",
    "# Mean Squared Error (MSE)\n",
    "MSE = np.square(np.subtract(y_pred, y_test_unscaled)).mean()\n",
    "print('Mean Squared Error (MSE): ' + str(np.round(MSE, 2)))\n",
    "\n",
    "# Root Mean Squarred Error (RMSE) \n",
    "RMSE = np.sqrt(np.mean(np.square(y_pred - y_test_unscaled)))\n",
    "print('Root Mean Squared Error (RMSE): ' + str(np.round(RMSE, 2)))\n",
    "\n",
    "# Mean Absolute Percentage Error (MAPE)\n",
    "MAPE = np.mean((np.abs(np.subtract(y_test_unscaled, y_pred)/ y_test_unscaled))) * 100\n",
    "print('Mean Absolute Percentage Error (MAPE): ' + str(np.round(MAPE, 2)) + ' %')\n",
    "\n",
    "# Median Absolute Percentage Error (MDAPE)\n",
    "MDAPE = np.median((np.abs(np.subtract(y_test_unscaled, y_pred)/ y_test_unscaled))) * 100\n",
    "print('Median Absolute Percentage Error (MDAPE): ' + str(np.round(MDAPE, 2)) + ' %')\n",
    "\n",
    "print('\\n\\ny_test_unscaled.shape= ',y_test_unscaled.shape)\n",
    "print('y_pred.shape= ',y_pred.shape)"
   ]
  },
  {
   "cell_type": "markdown",
   "metadata": {},
   "source": [
    "# lab report "
   ]
  },
  {
   "cell_type": "markdown",
   "metadata": {},
   "source": [
    "## Lab 1"
   ]
  },
  {
   "cell_type": "code",
   "execution_count": null,
   "metadata": {},
   "outputs": [],
   "source": []
  }
 ],
 "metadata": {
  "kernelspec": {
   "display_name": "Python 3 (ipykernel)",
   "language": "python",
   "name": "python3"
  },
  "language_info": {
   "codemirror_mode": {
    "name": "ipython",
    "version": 3
   },
   "file_extension": ".py",
   "mimetype": "text/x-python",
   "name": "python",
   "nbconvert_exporter": "python",
   "pygments_lexer": "ipython3",
   "version": "3.10.16"
  }
 },
 "nbformat": 4,
 "nbformat_minor": 4
}
